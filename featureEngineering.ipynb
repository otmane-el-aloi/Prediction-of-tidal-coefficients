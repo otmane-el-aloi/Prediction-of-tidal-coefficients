{
 "cells": [
  {
   "cell_type": "code",
   "execution_count": null,
   "metadata": {},
   "outputs": [],
   "source": [
    "# external\n",
    "import pandas as pd\n",
    "\n",
    "# internal"
   ]
  },
  {
   "cell_type": "markdown",
   "metadata": {},
   "source": [
    "### Which feature is more important in the prediction?"
   ]
  },
  {
   "cell_type": "markdown",
   "metadata": {},
   "source": [
    "We will use the first 20 years of data for training predictive models and the final year for evaluating models.\n",
    "\n",
    "The data will be divided into weeks, 14 values  (since for each day we've computed 2 values of the tidal coefficient). And the next 14 values would constitute the prediction target for the models."
   ]
  },
  {
   "cell_type": "code",
   "execution_count": null,
   "metadata": {},
   "outputs": [],
   "source": []
  },
  {
   "cell_type": "code",
   "execution_count": 1,
   "metadata": {},
   "outputs": [
    {
     "ename": "SyntaxError",
     "evalue": "unexpected EOF while parsing (Temp/ipykernel_18184/2849593004.py, line 1)",
     "output_type": "error",
     "traceback": [
      "\u001b[1;36m  File \u001b[1;32m\"C:\\Users\\Otmane\\AppData\\Local\\Temp/ipykernel_18184/2849593004.py\"\u001b[1;36m, line \u001b[1;32m1\u001b[0m\n\u001b[1;33m    X_train, X_test, y_train, y_test = split_dataset(df.drop(axis=1,columns = [\"month\", \"year\", \"day\", \"time\", \"hour\", \"mean\"])\u001b[0m\n\u001b[1;37m                                                                                                                               ^\u001b[0m\n\u001b[1;31mSyntaxError\u001b[0m\u001b[1;31m:\u001b[0m unexpected EOF while parsing\n"
     ]
    }
   ],
   "source": [
    "X_train, X_test, y_train, y_test = split_dataset(df.drop(axis=1,columns = [\"month\", \"year\", \"day\", \"time\", \"hour\", \"mean\"])"
   ]
  },
  {
   "cell_type": "markdown",
   "metadata": {},
   "source": [
    "### RF: fast proof of concept"
   ]
  },
  {
   "cell_type": "code",
   "execution_count": null,
   "metadata": {},
   "outputs": [],
   "source": []
  },
  {
   "cell_type": "code",
   "execution_count": null,
   "metadata": {},
   "outputs": [],
   "source": [
    "RF = RandomForestRegressor(n_estimators = 100)\n",
    "RF.fit(X_train.reshape(X_train_shape[0], X_train_shape[1]),y_train)"
   ]
  },
  {
   "cell_type": "code",
   "execution_count": null,
   "metadata": {},
   "outputs": [],
   "source": [
    "y_predicted = RF.predict(X_test.reshape(X_test_shape[0],X_test_shape[1]))\n",
    "score, scores = evaluate_forecasts(y_test, y_predicted)"
   ]
  },
  {
   "cell_type": "code",
   "execution_count": null,
   "metadata": {},
   "outputs": [],
   "source": [
    "print(\"the RMSE for all predictions is:{}\".format(score))\n",
    "\n",
    "print(\"-\"*100)\n",
    "\n",
    "plt.plot(np.arange(14)+1, scores)\n",
    "plt.xlabel(\"Days of the prediction\")\n",
    "plt.ylabel(\"RMSE\")\n",
    "plt.grid()\n",
    "plt.title(\"Evolution of the RMSE over time\");"
   ]
  },
  {
   "cell_type": "markdown",
   "metadata": {},
   "source": [
    "- The errors above indicate that our model performs well for the first value of the first day prediction and it does worse as we want to predict further steps in time. But Since the RMSE computed here has the same unit \"roughly speaking: our actual value has no unit\"."
   ]
  },
  {
   "cell_type": "code",
   "execution_count": null,
   "metadata": {},
   "outputs": [],
   "source": [
    "def plot_forcast(X, y, y_pred, data_index):\n",
    "    plt.figure(figsize = (20,10))\n",
    "    past_values = len(X[0])\n",
    "    step = len(y[0])\n",
    "    # Input \n",
    "    plt.scatter(np.arange(past_values)+1, X[data_index], color = \"red\")\n",
    "    plt.plot(np.arange(past_values)+1, X[data_index], color = \"red\")\n",
    "\n",
    "    # Ouptut (actual)\n",
    "    plt.scatter(np.arange(past_values)+step+1, y[data_index], color = \"red\")\n",
    "    plt.plot(np.arange(past_values)+step+1, y[data_index], color = \"red\", label = \"actual\")\n",
    "\n",
    "    # Ouput (predicted)\n",
    "    plt.scatter(np.arange(past_values)+step+1, y_pred[data_index], color =\"blue\")\n",
    "    plt.plot(np.arange(past_values)+step+1, y_pred[data_index], color = \"blue\",  label = \"predicted\")\n",
    "\n",
    "    # Decoration\n",
    "    plt.axvline(x=step, color = \"black\")\n",
    "    plt.axvspan(step, step+past_values, alpha=0.5, color='silver')\n",
    "    \n",
    "    plt.ylabel(\"Tidal coef value\")\n",
    "    plt.title(\"Foracast of {} days ahead using values from {} past days\".format(step, past_values))\n",
    "    plt.legend()\n",
    "    plt.grid();"
   ]
  },
  {
   "cell_type": "code",
   "execution_count": null,
   "metadata": {},
   "outputs": [],
   "source": [
    "plot_forcast(X_test, y_test, y_predicted, 88)"
   ]
  }
 ],
 "metadata": {
  "interpreter": {
   "hash": "46c389adc8a8c379192ebbf8a6e1a005ea2b2620be5b24a6931cdf1c75ccb087"
  },
  "kernelspec": {
   "display_name": "Python 3.8.11 64-bit ('prediciton_of_tidal_coefficient': conda)",
   "language": "python",
   "name": "python3"
  },
  "language_info": {
   "codemirror_mode": {
    "name": "ipython",
    "version": 3
   },
   "file_extension": ".py",
   "mimetype": "text/x-python",
   "name": "python",
   "nbconvert_exporter": "python",
   "pygments_lexer": "ipython3",
   "version": "3.8.11"
  },
  "orig_nbformat": 4
 },
 "nbformat": 4,
 "nbformat_minor": 2
}
